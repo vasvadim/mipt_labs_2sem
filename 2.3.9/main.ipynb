{
 "cells": [
  {
   "cell_type": "markdown",
   "id": "1c6772c6-b4ae-4190-bb95-41edd5be9499",
   "metadata": {},
   "source": [
    "# Лабораторная работа 2.2.6\n",
    "\n",
    "## Определение энергии активации по температурной зависимости вязкости жидкости\n",
    "\n",
    "**Цель работы:** 1) измерение скорости падения шариков при разной температуре жидкости; 2) вычисление вязкости жидкости по закону Стокса и расчёт энергии активации.\n",
    "\n",
    "**В работе используются:** стеклянный цилиндр с исследуемой жидкостью (глицерин); термостат; секундомер; горизонтальный компаратор; микроскоп; мелкие шарики (диаметром около 1 мм). По своим свойствам жидкости сходны как с газами, так и с твёр- дыми телами. Подобно газам, жидкости принимают форму сосуда, в котором они находятся. Подобно твёрдым телам, они обладают сравни- тельно большой плотностью, с трудом поддаются сжатию."
   ]
  },
  {
   "cell_type": "markdown",
   "id": "d05240bb-c113-48d7-8027-48144de1cc8b",
   "metadata": {},
   "source": [
    "Двойственный характер свойств жидкостей связан с особенностями движения их молекул. В газах молекулы движутся хаотично, в их расположении отсутствует порядок. В кристаллических твёрдых телах частицы колеблются около определённых положений равновесия — узлов кристаллической решётки. В жидкостях, как и в кристаллах, каждая молекула находится в потенциальной яме электрического поля, создаваемого окружающими молекулами. Молекулы колеблются со средней частотой, близкой к частоте колебаний атомов в кристаллических телах ($\\sim$10 Гц), и с амплитудой, определяемой размерами объёма, предоставленного ей соседними молекулами. Глубина потенциальной ямы в жидкостях больше средней кинетической энергии колеблющейся моле- кулы, поэтому молекулы колеблются вокруг более или менее стабильных положений равновесия. Однако у жидкостей различие между этими двумя энергиями невелико, так что молекулы нередко выскакивают из «своей» потенциальной ямы и занимают место в другой.\n",
    "\n",
    "Отмеченный характер движения молекул объясняет как медленность диффузии в жидкостях, так и большую (по сравнению с газами) их вязкость. В газах вязкость объясняется происходящим при тепловом движении молекул переносом количества направленного движения. В жидкостях такие переходы существенно замедлены. Количество молекул, имеющих энергии больше $W$, в соответствии с формулой Больцмана экспоненциально зависит от $W$. Температурная зависимость вязкости жидкости выражается формулой:\n",
    "\n",
    "$$\\eta \\sim Ae^{W/kt} \\quad (1)$$\n",
    "\n",
    "На всякое тело, двигающееся в вязкой жидкости, действует сила сопротивления. В общем случае величина этой силы зависит от многих факторов: от вязкости жидкости, от формы тела, от характера обтекания и т. д. Стоксом было получено строгое решение задачи о ламинарном обтекании шарика безграничной жидкостью. В этом случае сила сопротивления $P$ определяется формулой:\n",
    "\n",
    "$$F = 6\\pi\\eta rv \\quad (2)$$"
   ]
  },
  {
   "cell_type": "markdown",
   "id": "dc2215e0-9bb3-48fc-89b6-787716c085fe",
   "metadata": {},
   "source": [
    "Рассмотрим свободное падение шарика в вязкой жидкости. На шарик действуют три силы: сила тяжести, архимедова сила и сила вязкости, зависящая от скорости.\n",
    "Найдём уравнение движения шарика в жидкости. По второму закону Ньютона: \n",
    "$$Vg(\\rho - \\rho_ж) - 6\\pi\\eta rv = V\\rho \\frac{dv}{dt} \\quad (3)$$\n",
    "где V — объём шарика, $\\rho$ — его плотность, $\\rho_ж$— плотность жидкости, $g$ — ускорение свободного падения. Решая это уравнение, найдём \n",
    "$$v(t) = v_{уст} - [v_{уст} - v(0)]e^{-t/\\tau}] \\quad (4)$$\n",
    "В формуле (4) приняты обозначения: v(0) — скорость шарика в момент начала его движения в жидкости, \n",
    "$$v_{уст} = \\frac{Vg(\\rho - \\rho_ж)}{6\\pi\\eta r} = \\frac{2}{9} gr^2 \\frac{(\\rho - \\rho_ж)}{\\eta}, \\quad \\quad \\tau = \\frac{V\\rho}{6\\pi\\eta r} = \\frac{2}{9} \\frac{r^2 \\rho}{\\eta} \\quad (5)$$\n",
    "Как видно из (4), скорость шарика экспоненциально приближается к установившейся скорости $v_{уст}$. Установление скорости определяется величиной $\\tau$, имеющей размерность времени и называющейся *временем релаксации*. Если время падения в несколько раз больше времени релаксации, процесс установления скорости можно считать закончившимся. Измеряя на опыте установившуюся скорость падения шариков $v_{уст}$ и величины $r$, $\\rho$, $\\rho_ж$,‚ можно определить вязкость жидкости по формуле, следующей из (5): \n",
    "$$\\eta = \\frac{2}{9} gr^2 \\frac{\\rho - \\rho_ж}{v_{уст}} \\quad (6)$$"
   ]
  },
  {
   "cell_type": "markdown",
   "id": "c2113403-4f37-461a-b4fb-a41fc2426242",
   "metadata": {},
   "source": [
    "### Экспериментальная установка\n",
    "Для измерений используется стеклянный цилиндрический сосуд В, наполненный исследуемой жидкостью (глицерин). Диаметр сосуда $\\approx$53 см, длина $\\approx$40 см (точные размеры ука- заны на установке). На стенках сосуда нанесены две метки на некотором расстоянии друг от друга. Верхняя метка должна располагаться ниже уровня жидкости с таким расчётом, чтобы скорость шарика к моменту прохождения этой метки успевала установиться. Измеряя расстояние между метками с помощью линейки, а время падения с помощью секундомера, определяют скорость шарика $v_{уст}$. Сам сосуд В помещён в рубашку D, омываемую водой из термостата. При работающем термостате температура воды в рубашке D, а потому и температура жидкости 12 равна температуре воды в термостате.\n",
    "\n",
    "Радиусы шариков измеряются горизонтальным компаратором или микроскопом. Для каждого шарика рекомендуется измерить несколько различных диаметров и вычислить среднее значение. Такое усреднение целесообразно, поскольку в работе используются шарики, форма кото- рых может несколько отличаться от сферической. Плотность шариков $\\rho$ определяется из таблиц ($\\rho_{стали}$ = 7.7 г/$см^3$, стекла = 2,6 г/$см^3$). Плотность исследуемой жидкости определяется по графику $\\rho_ж(T)$.\n",
    "\n",
    "Опыты проводятся при нескольких температурах в интервале от комнатной до 50—60 °С.\n",
    "\n",
    "Ванна представляет собой ёмкость из нержавеющей стали, установленную в наружный кожух.\n",
    "В блоке терморегулирования расположены насос для обеспечения перемешивания рабочей жидкости и перекачки её во внешний контур, нагреватель, датчик температуры, датчик уровня жидкости, элементы управления и индикации, необходимые для надёжной работы."
   ]
  },
  {
   "cell_type": "markdown",
   "id": "a8379bf5-6690-43fe-86ae-6be46e2ba8b2",
   "metadata": {},
   "source": [
    "![Установка](image3.png)"
   ]
  },
  {
   "cell_type": "markdown",
   "id": "fe89253e-a912-4472-b7f7-507143bfe917",
   "metadata": {},
   "source": [
    "### Указания \n",
    "Описанная выше методика определения вязкости основана на формуле Стокса и правильна лишь в том случае, если выполнены предположения, сделанные при выводе этой формулы. Самым надёжным способом проверки теории является следующий. Шарики с неодинаковыми радиусами движутся в жидкости с разными скоростями и с разными временами релаксации. Если во всем диапазоне встречающихся в работе скоростей и времён релаксации вычисленные по формуле (6) значения $\\eta$ оказываются одинаковыми, то формула (2) правильно передаёт зависимость сил от радиуса шарика. Зависимость (или независимость) $\\eta$ от $r$ служит чувствительным индикатором правильности теории и надёжности эксперимента.\n",
    "\n",
    "Результаты опыта имеет смысл обрабатывать лишь в том случае, если значения $\\eta$ не обнаруживают систематической зависимости от $r$. Если\n",
    "такая зависимость наблюдается, то чаще всего это связано с влиянием стенок сосуда. В этом случае вместо формулы (6) следует использовать более точную формулу:\n",
    "$$\\eta = \\frac{2}{9} gr^2 \\frac{\\rho - \\rho_ж}{[1 + 2.4(r/R)]v_{уст}} \\quad (7)$$\n",
    "\n",
    "где $R$ — радиус сосуда. Для небольших шариков отличие (7) от (6) лежит в пределах точности эксперимента и может не приниматься во внимание. (Формула (7) верна для шариков, движущихся вблизи осевой линии сосуда, при условии $r \\ll R$.)\n",
    "\n",
    "Полезно исследовать применимость формулы Стокса не только экспериментально, но и теоретически. При выводе формулы Стокса предполагалось, что обтекание шарика жидкостью имеет ламинарный характер. Как известно, характер обтекания определяется значением числа Рейнольдса Ве = этрж/т). Обтекание является ламинарным лишь при очень малых значениях Ве (меньших 0,5). По результатам опыта следует вычислить числа Рейнольдса для разных размеров шариков и различных температур жидкости. Полезно также вычислить время релаксации т и путь 5, который может быть найден посредством интегрирования (4). Полагая для простоты 9(0) = 0 (что обычно выполняется с достаточной точностью), получим\n",
    "$$S = v_{уст} \\tau \\biggl(\\frac{t}{\\tau} - 1 + e^{-t/\\tau}\\biggr) \\quad (8)$$ \n",
    "\n",
    "Из формулы (8) легко найти, что $S \\gg \\tau v_{уст}$ при $t \\gg \\tau$. \n",
    "Последнее неравенство определяет допустимое расстояние между границей жидкости и верхней меткой."
   ]
  },
  {
   "cell_type": "code",
   "execution_count": 24,
   "id": "0c5a33b8-34b5-4cc8-af21-1c3905cab69c",
   "metadata": {},
   "outputs": [],
   "source": [
    "import numpy as np\n",
    "import pandas as pd\n",
    "import matplotlib.pyplot as plt"
   ]
  },
  {
   "cell_type": "code",
   "execution_count": 16,
   "id": "96b87b4c-99a9-427d-926f-938f6a2f76b1",
   "metadata": {},
   "outputs": [],
   "source": [
    "balls_r = np.array([2.0, 2.1, 2.1, \n",
    "                    1.0, 1.05, 1.05,\n",
    "                   1.05, 1.05, 1.05,\n",
    "                   1.05, 1.05, 1.05,\n",
    "                   1.05, 1.05, 1.05]) / 2\n",
    "t = np.array([23.60, 30.98, 38.85, 45.60, 52.30]*3)\n",
    "t.sort()\n",
    "T = np.array([28.20, 28.52,\n",
    "             27.56, 28.38,\n",
    "             28.32, 28.44,\n",
    "             15.58, 15.75,\n",
    "             15.64, 15.78,\n",
    "             15.45, 15.94,\n",
    "             8.61, 8.94,\n",
    "             8.70, 8.94,\n",
    "             8.63, 8.94,\n",
    "             5.83, 6.07,\n",
    "             5.97, 6.19,\n",
    "             5.79, 6.19,\n",
    "             3.76, 4.03,\n",
    "             3.90, 4.03,\n",
    "             3.69, 3.85]).reshape(15,2).T\n",
    "ro = np.array([1.259, 1.256, 1.254, 1.251, 1.249])\n",
    "ro_glass = 2.5\n",
    "R = 1.35 / 100\n",
    "l = 10 / 100\n",
    "g = 9.8"
   ]
  },
  {
   "cell_type": "code",
   "execution_count": 17,
   "id": "d4c90f1c-3e08-467b-9e8f-42b39f626b45",
   "metadata": {},
   "outputs": [],
   "source": [
    "ro_s = ro.reshape(1,5)\n",
    "ro_s = np.concatenate([ro_s,ro_s,ro_s], axis=0).T.flatten()"
   ]
  },
  {
   "cell_type": "code",
   "execution_count": 18,
   "id": "9f81ede9-3825-477e-bff5-d0b94b050f2c",
   "metadata": {},
   "outputs": [],
   "source": [
    "df = pd.DataFrame(data= {\"Температура\": t, \"Радиус шарика\": balls_r, f\"$T_1$\": T[0], f\"$T_2$\": T[1]})"
   ]
  },
  {
   "cell_type": "code",
   "execution_count": 5,
   "id": "1447e5f9-42fb-4865-93ee-eb9234626a27",
   "metadata": {},
   "outputs": [],
   "source": [
    "ind = pd.MultiIndex.from_arrays([df[\"Температура\"], [1,2,3]*5], names=[\"Температура\", \"Номер опыта\"])\n",
    "df.index = ind"
   ]
  },
  {
   "cell_type": "code",
   "execution_count": 19,
   "id": "ded50fd0-8c5c-431c-ab17-de755b8c30b4",
   "metadata": {},
   "outputs": [],
   "source": [
    "V = ((l / df[\"$T_1$\"]) + (l / df[\"$T_2$\"])) / 2\n",
    "df[\"$V_{уст}$\"] = V\n",
    "viscosity = ((2/9)*9.8*np.power(df[\"Радиус шарика\"],2)*(ro_glass - ro_s))/(1 + 2.4*(df[\"Радиус шарика\"]/R)*df[\"$V_{уст}$\"])\n",
    "df[f\"Вязкость\"] = viscosity*1000"
   ]
  },
  {
   "cell_type": "code",
   "execution_count": 20,
   "id": "eba6ef33-1ddc-4d43-aa0e-0806571a9dcc",
   "metadata": {},
   "outputs": [
    {
     "data": {
      "text/html": [
       "<div>\n",
       "<style scoped>\n",
       "    .dataframe tbody tr th:only-of-type {\n",
       "        vertical-align: middle;\n",
       "    }\n",
       "\n",
       "    .dataframe tbody tr th {\n",
       "        vertical-align: top;\n",
       "    }\n",
       "\n",
       "    .dataframe thead th {\n",
       "        text-align: right;\n",
       "    }\n",
       "</style>\n",
       "<table border=\"1\" class=\"dataframe\">\n",
       "  <thead>\n",
       "    <tr style=\"text-align: right;\">\n",
       "      <th></th>\n",
       "      <th>Температура</th>\n",
       "      <th>Радиус шарика</th>\n",
       "      <th>$T_1$</th>\n",
       "      <th>$T_2$</th>\n",
       "      <th>$V_{уст}$</th>\n",
       "      <th>Вязкость</th>\n",
       "    </tr>\n",
       "  </thead>\n",
       "  <tbody>\n",
       "    <tr>\n",
       "      <th>0</th>\n",
       "      <td>23.60</td>\n",
       "      <td>1.000</td>\n",
       "      <td>28.20</td>\n",
       "      <td>28.52</td>\n",
       "      <td>0.003526</td>\n",
       "      <td>1661.229254</td>\n",
       "    </tr>\n",
       "    <tr>\n",
       "      <th>1</th>\n",
       "      <td>23.60</td>\n",
       "      <td>1.050</td>\n",
       "      <td>27.56</td>\n",
       "      <td>28.38</td>\n",
       "      <td>0.003576</td>\n",
       "      <td>1786.864202</td>\n",
       "    </tr>\n",
       "    <tr>\n",
       "      <th>2</th>\n",
       "      <td>23.60</td>\n",
       "      <td>1.050</td>\n",
       "      <td>28.32</td>\n",
       "      <td>28.44</td>\n",
       "      <td>0.003524</td>\n",
       "      <td>1797.408140</td>\n",
       "    </tr>\n",
       "    <tr>\n",
       "      <th>3</th>\n",
       "      <td>30.98</td>\n",
       "      <td>0.500</td>\n",
       "      <td>15.58</td>\n",
       "      <td>15.75</td>\n",
       "      <td>0.006384</td>\n",
       "      <td>432.095193</td>\n",
       "    </tr>\n",
       "    <tr>\n",
       "      <th>4</th>\n",
       "      <td>30.98</td>\n",
       "      <td>0.525</td>\n",
       "      <td>15.64</td>\n",
       "      <td>15.78</td>\n",
       "      <td>0.006365</td>\n",
       "      <td>468.417796</td>\n",
       "    </tr>\n",
       "    <tr>\n",
       "      <th>5</th>\n",
       "      <td>30.98</td>\n",
       "      <td>0.525</td>\n",
       "      <td>15.45</td>\n",
       "      <td>15.94</td>\n",
       "      <td>0.006373</td>\n",
       "      <td>468.211921</td>\n",
       "    </tr>\n",
       "    <tr>\n",
       "      <th>6</th>\n",
       "      <td>38.85</td>\n",
       "      <td>0.525</td>\n",
       "      <td>8.61</td>\n",
       "      <td>8.94</td>\n",
       "      <td>0.011400</td>\n",
       "      <td>362.359533</td>\n",
       "    </tr>\n",
       "    <tr>\n",
       "      <th>7</th>\n",
       "      <td>38.85</td>\n",
       "      <td>0.525</td>\n",
       "      <td>8.70</td>\n",
       "      <td>8.94</td>\n",
       "      <td>0.011340</td>\n",
       "      <td>363.346579</td>\n",
       "    </tr>\n",
       "    <tr>\n",
       "      <th>8</th>\n",
       "      <td>38.85</td>\n",
       "      <td>0.525</td>\n",
       "      <td>8.63</td>\n",
       "      <td>8.94</td>\n",
       "      <td>0.011387</td>\n",
       "      <td>362.580189</td>\n",
       "    </tr>\n",
       "    <tr>\n",
       "      <th>9</th>\n",
       "      <td>45.60</td>\n",
       "      <td>0.525</td>\n",
       "      <td>5.83</td>\n",
       "      <td>6.07</td>\n",
       "      <td>0.016814</td>\n",
       "      <td>291.800196</td>\n",
       "    </tr>\n",
       "    <tr>\n",
       "      <th>10</th>\n",
       "      <td>45.60</td>\n",
       "      <td>0.525</td>\n",
       "      <td>5.97</td>\n",
       "      <td>6.19</td>\n",
       "      <td>0.016453</td>\n",
       "      <td>295.675620</td>\n",
       "    </tr>\n",
       "    <tr>\n",
       "      <th>11</th>\n",
       "      <td>45.60</td>\n",
       "      <td>0.525</td>\n",
       "      <td>5.79</td>\n",
       "      <td>6.19</td>\n",
       "      <td>0.016713</td>\n",
       "      <td>292.868762</td>\n",
       "    </tr>\n",
       "    <tr>\n",
       "      <th>12</th>\n",
       "      <td>52.30</td>\n",
       "      <td>0.525</td>\n",
       "      <td>3.76</td>\n",
       "      <td>4.03</td>\n",
       "      <td>0.025705</td>\n",
       "      <td>220.914093</td>\n",
       "    </tr>\n",
       "    <tr>\n",
       "      <th>13</th>\n",
       "      <td>52.30</td>\n",
       "      <td>0.525</td>\n",
       "      <td>3.90</td>\n",
       "      <td>4.03</td>\n",
       "      <td>0.025227</td>\n",
       "      <td>223.848158</td>\n",
       "    </tr>\n",
       "    <tr>\n",
       "      <th>14</th>\n",
       "      <td>52.30</td>\n",
       "      <td>0.525</td>\n",
       "      <td>3.69</td>\n",
       "      <td>3.85</td>\n",
       "      <td>0.026537</td>\n",
       "      <td>215.978094</td>\n",
       "    </tr>\n",
       "  </tbody>\n",
       "</table>\n",
       "</div>"
      ],
      "text/plain": [
       "    Температура  Радиус шарика  $T_1$  $T_2$  $V_{уст}$     Вязкость\n",
       "0         23.60          1.000  28.20  28.52   0.003526  1661.229254\n",
       "1         23.60          1.050  27.56  28.38   0.003576  1786.864202\n",
       "2         23.60          1.050  28.32  28.44   0.003524  1797.408140\n",
       "3         30.98          0.500  15.58  15.75   0.006384   432.095193\n",
       "4         30.98          0.525  15.64  15.78   0.006365   468.417796\n",
       "5         30.98          0.525  15.45  15.94   0.006373   468.211921\n",
       "6         38.85          0.525   8.61   8.94   0.011400   362.359533\n",
       "7         38.85          0.525   8.70   8.94   0.011340   363.346579\n",
       "8         38.85          0.525   8.63   8.94   0.011387   362.580189\n",
       "9         45.60          0.525   5.83   6.07   0.016814   291.800196\n",
       "10        45.60          0.525   5.97   6.19   0.016453   295.675620\n",
       "11        45.60          0.525   5.79   6.19   0.016713   292.868762\n",
       "12        52.30          0.525   3.76   4.03   0.025705   220.914093\n",
       "13        52.30          0.525   3.90   4.03   0.025227   223.848158\n",
       "14        52.30          0.525   3.69   3.85   0.026537   215.978094"
      ]
     },
     "execution_count": 20,
     "metadata": {},
     "output_type": "execute_result"
    }
   ],
   "source": [
    "df"
   ]
  },
  {
   "cell_type": "code",
   "execution_count": 9,
   "id": "ee530eb7-2765-4904-954c-25425ea007a1",
   "metadata": {},
   "outputs": [],
   "source": [
    "a = np.polyfit(np.log(n), np.power(T, -1), 1)\n",
    "f = np.poly1d(a)"
   ]
  },
  {
   "cell_type": "code",
   "execution_count": 10,
   "id": "1d788fe7-5327-4383-b613-7f82792c21be",
   "metadata": {},
   "outputs": [
    {
     "data": {
      "image/png": "[encoded data removed]",
      "text/plain": [
       "<Figure size 640x480 with 1 Axes>"
      ]
     },
     "metadata": {},
     "output_type": "display_data"
    }
   ],
   "source": [
    "plt.scatter(np.log(n), np.power(T, -1))\n",
    "plt.plot(np.log(n), f(np.log(n)))\n",
    "plt.grid()\n",
    "plt.show()"
   ]
  },
  {
   "cell_type": "code",
   "execution_count": 11,
   "id": "ce2e7dfc-9086-4361-9d76-50c39feea2ae",
   "metadata": {},
   "outputs": [
    {
     "data": {
      "text/plain": [
       "0.6424748783783024"
      ]
     },
     "execution_count": 11,
     "metadata": {},
     "output_type": "execute_result"
    }
   ],
   "source": [
    "10* (1.38*0.1)* a[1]  / (1.6 * 6)* 100"
   ]
  },
  {
   "cell_type": "code",
   "execution_count": 12,
   "id": "6f0965b7-81cf-4011-9e22-fcb2a18ec870",
   "metadata": {},
   "outputs": [],
   "source": [
    "x = [20,30,40,50,60,70, 80, 90, 100]"
   ]
  },
  {
   "cell_type": "code",
   "execution_count": 13,
   "id": "1c685699-92b2-407f-a709-10f410cf2137",
   "metadata": {},
   "outputs": [],
   "source": [
    "y = [2.46,3.74,5.04,6.32,7.30,8.54, 9.49, 10.06 ,10.45]"
   ]
  },
  {
   "cell_type": "code",
   "execution_count": 14,
   "id": "faad1e34-b016-4824-a0da-8d40fd20a8f0",
   "metadata": {},
   "outputs": [
    {
     "data": {
      "text/plain": [
       "<matplotlib.collections.PathCollection at 0x1b62cd2df90>"
      ]
     },
     "execution_count": 14,
     "metadata": {},
     "output_type": "execute_result"
    },
    {
     "data": {
      "image/png": "[encoded data removed]",
      "text/plain": [
       "<Figure size 640x480 with 1 Axes>"
      ]
     },
     "metadata": {},
     "output_type": "display_data"
    }
   ],
   "source": [
    "plt.scatter(x, y)"
   ]
  },
  {
   "cell_type": "code",
   "execution_count": null,
   "id": "61814865-c8f1-4c2a-947e-2f71635c7b97",
   "metadata": {},
   "outputs": [],
   "source": []
  }
 ],
 "metadata": {
  "kernelspec": {
   "display_name": "Python 3 (ipykernel)",
   "language": "python",
   "name": "python3"
  },
  "language_info": {
   "codemirror_mode": {
    "name": "ipython",
    "version": 3
   },
   "file_extension": ".py",
   "mimetype": "text/x-python",
   "name": "python",
   "nbconvert_exporter": "python",
   "pygments_lexer": "ipython3",
   "version": "3.11.5"
  }
 },
 "nbformat": 4,
 "nbformat_minor": 5
}
